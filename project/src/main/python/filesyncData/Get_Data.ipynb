{
 "cells": [
  {
   "cell_type": "code",
   "execution_count": 1,
   "id": "cfdba4b2",
   "metadata": {},
   "outputs": [],
   "source": [
    "import pandas as pd\n",
    "import numpy as np\n",
    "import matplotlib.pyplot as plt\n",
    "import datetime\n",
    "#from WindPy import *\n",
    "from datetime import datetime,timedelta\n",
    "import statsmodels.api as sm\n",
    "from datetime import datetime,timedelta  \n",
    "import seaborn as sns\n",
    "import xlwings as xw\n",
    "import time\n",
    "import warnings\n",
    "import pyodbc\n",
    "import re\n",
    "import calendar\n",
    "%matplotlib inline\n",
    "warnings.filterwarnings('ignore')\n",
    "plt.rcParams['font.sans-serif'] = ['SimHei']  # 用来正常显示中文标签\n",
    "plt.rcParams['axes.unicode_minus'] = False  # 用来正常显示负号\n",
    "#w.start()"
   ]
  },
  {
   "cell_type": "code",
   "execution_count": 2,
   "id": "641dc207",
   "metadata": {},
   "outputs": [],
   "source": [
    "def list_to_str(my_list):\n",
    "    if len(my_list)==0 or 'Nan' in my_list:\n",
    "        print(\"You Input List Is Null\")\n",
    "    elif len(my_list)==1:\n",
    "        my_list = str(tuple(my_list))\n",
    "        my_list = my_list[0:len(my_list)-2] + \")\"\n",
    "    else:\n",
    "        my_list = str(tuple(my_list))\n",
    "    return my_list  \n",
    "\n",
    "def datetime_to_str(dt):\n",
    "    return datetime.strftime(dt, '%Y%m%d') "
   ]
  },
  {
   "cell_type": "code",
   "execution_count": 3,
   "id": "16475e2e",
   "metadata": {},
   "outputs": [],
   "source": [
    "con = pyodbc.connect(\"driver={SQL Server};Server=v-wind;DataBase=wind_quant;UID=ywpublic;PWD=1qazXSW@\")\n",
    "path = \"select S_INFO_WINDCODE,TRADE_DT,S_DQ_ADJOPEN,S_DQ_ADJCLOSE,S_DQ_ADJLOW,S_DQ_ADJHIGH,S_DQ_VOLUME from AShareEODPrices where TRADE_DT>= 20181131 and TRADE_DT<=20190430\" \n",
    "result = pd.read_sql(path, con)"
   ]
  },
  {
   "cell_type": "code",
   "execution_count": 4,
   "id": "cf624959",
   "metadata": {},
   "outputs": [],
   "source": [
    "for column_name in result.columns[2:]:\n",
    "    df = result[['S_INFO_WINDCODE','TRADE_DT',column_name]]\n",
    "    df = df.pivot(columns='S_INFO_WINDCODE',index='TRADE_DT',values=column_name)\n",
    "    df.to_csv('{}.csv'.format(column_name))"
   ]
  },
  {
   "cell_type": "code",
   "execution_count": 5,
   "id": "e8144105",
   "metadata": {},
   "outputs": [],
   "source": [
    "path = \"select S_INFO_WINDCODE,TRADE_DT,S_VAL_MV,S_DQ_MV from AShareEODDerivativeIndicator where TRADE_DT>= 20181131 and TRADE_DT<=20190430\" \n",
    "result = pd.read_sql(path, con)\n",
    "for column_name in result.columns[2:]:\n",
    "    df = result[['S_INFO_WINDCODE','TRADE_DT',column_name]]\n",
    "    df = df.pivot(columns='S_INFO_WINDCODE',index='TRADE_DT',values=column_name)\n",
    "    df.to_csv('{}.csv'.format(column_name))"
   ]
  },
  {
   "cell_type": "code",
   "execution_count": null,
   "id": "8c79a3f6",
   "metadata": {},
   "outputs": [],
   "source": []
  }
 ],
 "metadata": {
  "kernelspec": {
   "display_name": "Python 3",
   "language": "python",
   "name": "python3"
  },
  "language_info": {
   "codemirror_mode": {
    "name": "ipython",
    "version": 3
   },
   "file_extension": ".py",
   "mimetype": "text/x-python",
   "name": "python",
   "nbconvert_exporter": "python",
   "pygments_lexer": "ipython3",
   "version": "3.8.8"
  }
 },
 "nbformat": 4,
 "nbformat_minor": 5
}
