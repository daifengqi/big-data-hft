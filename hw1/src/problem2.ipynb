{
 "cells": [
  {
   "cell_type": "code",
   "execution_count": 1,
   "id": "2a2448d9",
   "metadata": {},
   "outputs": [],
   "source": [
    "import pandas as pd\n",
    "import numpy as np"
   ]
  },
  {
   "cell_type": "code",
   "execution_count": 2,
   "id": "9c72a163",
   "metadata": {},
   "outputs": [],
   "source": [
    "p1 = pd.read_csv('../data/problem1.csv', index_col=0)\n",
    "# p1"
   ]
  },
  {
   "cell_type": "code",
   "execution_count": 3,
   "id": "cc60efe6",
   "metadata": {},
   "outputs": [],
   "source": [
    "stockCodes = p1['StockCode'].tolist()\n",
    "sqlCodesList = '(' + ','.join(list(map(lambda x: '\\'' + x + '\\'', stockCodes))) + ')'\n",
    "# sqlCodesList"
   ]
  },
  {
   "cell_type": "code",
   "execution_count": 4,
   "id": "2292247f",
   "metadata": {},
   "outputs": [],
   "source": [
    "# config FileSync database\n",
    "import os\n",
    "import configparser\n",
    "import pandas as pd\n",
    "import sqlalchemy as sa\n",
    "\n",
    "from sqlalchemy.ext.declarative import declarative_base"
   ]
  },
  {
   "cell_type": "code",
   "execution_count": null,
   "id": "18141e0f",
   "metadata": {},
   "outputs": [],
   "source": [
    "import cx_Oracle   \n",
    "cx_Oracle.init_oracle_client(lib_dir=r\"../FileSync/instantclient_19_8\")\n",
    "\n",
    "conn = cx_Oracle.connect('student2001212376', 'student2001212376', '219.223.208.52/orcl')\n",
    "\n",
    "cursor = conn.cursor()"
   ]
  },
  {
   "cell_type": "code",
   "execution_count": null,
   "id": "873b03b5",
   "metadata": {},
   "outputs": [],
   "source": [
    "query = f'''\n",
    "SELECT S_DQ_ADJCLOSE, TRADE_DT, S_DQ_CLOSE\n",
    "FROM FILESYNC.AShareEODPrices\n",
    "WHERE (TRADE_DT BETWEEN 20200430 AND 20200630)\n",
    "AND S_INFO_WINDCODE IN {sqlCodesList}\n",
    "'''\n",
    "cursor.execute(query)\n",
    "data = cursor.fetchall()\n",
    "# print(data)"
   ]
  },
  {
   "cell_type": "code",
   "execution_count": null,
   "id": "53605cbb",
   "metadata": {},
   "outputs": [],
   "source": [
    "prices = pd.DataFrame(data)\n",
    "prices.columns = ['StockCode', 'date', 'price']\n",
    "# prices"
   ]
  },
  {
   "cell_type": "code",
   "execution_count": null,
   "id": "b1ee3b77",
   "metadata": {
    "scrolled": true
   },
   "outputs": [],
   "source": [
    "allStocks = prices.pivot_table(index='date', columns='StockCode')['price']\n",
    "# allStocks"
   ]
  },
  {
   "cell_type": "code",
   "execution_count": null,
   "id": "087de8eb",
   "metadata": {},
   "outputs": [],
   "source": [
    "# prices.to_csv('../data/prices.csv')\n",
    "# allStocks.to_csv('../data/allStocks.csv')"
   ]
  },
  {
   "cell_type": "code",
   "execution_count": null,
   "id": "58e21a6d",
   "metadata": {},
   "outputs": [],
   "source": [
    "def createPortofolio(name, code):\n",
    "    sectorCol= 'SectorCode' + code\n",
    "    sectorStocks = p1[p1['SectorCode'] == name]\n",
    "\n",
    "    allStocks[sectorCol] = 0\n",
    "    for i, row in enumerate(sectorStocks.iterrows()):\n",
    "        stockCode = row[1]['StockCode']\n",
    "        weightInSector = row[1]['WeightInSectorPortofolio']\n",
    "        allStocks[sectorCol] += allStocks[stockCode] * weightInSector"
   ]
  },
  {
   "cell_type": "code",
   "execution_count": null,
   "id": "f8a770c4",
   "metadata": {},
   "outputs": [],
   "source": [
    "sectorCodePair = [['非银金融', '1'],\n",
    "                  ['银行', '2'],\n",
    "                  ['食品饮料', '3'],\n",
    "                  ['医药生物', '4'],\n",
    "                  ['电子', '5']]\n",
    "\n",
    "for [sec, code] in sectorCodePair:\n",
    "    createPortofolio(name = sec, code = code)"
   ]
  },
  {
   "cell_type": "code",
   "execution_count": null,
   "id": "54a09fb3",
   "metadata": {
    "scrolled": true
   },
   "outputs": [],
   "source": [
    "allStocks.index.name = 'TradeDate'\n",
    "portFolioStocks = allStocks[['SectorCode1', \n",
    "                             'SectorCode2', \n",
    "                             'SectorCode3', \n",
    "                             'SectorCode4', \n",
    "                             'SectorCode5']].reset_index().set_index('TradeDate')\n",
    "\n",
    "# portFolioStocks"
   ]
  },
  {
   "cell_type": "code",
   "execution_count": null,
   "id": "c966450a",
   "metadata": {
    "scrolled": true
   },
   "outputs": [],
   "source": [
    "portFolioStocksReturn = portFolioStocks.pct_change(1).fillna(method='bfill')\n",
    "portFolioStocksReturn.index = pd.to_datetime(portFolioStocksReturn.index)\n",
    "# portFolioStocksReturn"
   ]
  },
  {
   "cell_type": "code",
   "execution_count": null,
   "id": "01427ec7",
   "metadata": {},
   "outputs": [],
   "source": [
    "plot = portFolioStocksReturn.plot(ylabel='return', figsize=(18, 10))\n",
    "plot"
   ]
  },
  {
   "cell_type": "code",
   "execution_count": null,
   "id": "1809c0de",
   "metadata": {},
   "outputs": [],
   "source": [
    "fig = plot.get_figure()\n",
    "fig.savefig(\"../img/problem2.png\")"
   ]
  },
  {
   "cell_type": "code",
   "execution_count": null,
   "id": "777f9a98",
   "metadata": {},
   "outputs": [],
   "source": [
    "portFolioStocksReturn.to_csv('../data/problem2.csv')"
   ]
  }
 ],
 "metadata": {
  "kernelspec": {
   "display_name": "phbs",
   "language": "python",
   "name": "phbs"
  },
  "language_info": {
   "codemirror_mode": {
    "name": "ipython",
    "version": 3
   },
   "file_extension": ".py",
   "mimetype": "text/x-python",
   "name": "python",
   "nbconvert_exporter": "python",
   "pygments_lexer": "ipython3",
   "version": "3.7.3"
  }
 },
 "nbformat": 4,
 "nbformat_minor": 5
}
