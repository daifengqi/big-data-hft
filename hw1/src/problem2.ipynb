{
 "cells": [
  {
   "cell_type": "code",
   "execution_count": 1,
   "id": "2a2448d9",
   "metadata": {
    "ExecuteTime": {
     "end_time": "2021-12-12T01:46:13.146864Z",
     "start_time": "2021-12-12T01:46:12.798499Z"
    }
   },
   "outputs": [],
   "source": [
    "import pandas as pd\n",
    "import numpy as np"
   ]
  },
  {
   "cell_type": "code",
   "execution_count": 2,
   "id": "9c72a163",
   "metadata": {
    "ExecuteTime": {
     "end_time": "2021-12-12T01:46:13.161874Z",
     "start_time": "2021-12-12T01:46:13.148875Z"
    }
   },
   "outputs": [],
   "source": [
    "p1 = pd.read_csv('../data/problem1.csv', index_col=0)\n",
    "# p1"
   ]
  },
  {
   "cell_type": "code",
   "execution_count": 3,
   "id": "cc60efe6",
   "metadata": {
    "ExecuteTime": {
     "end_time": "2021-12-12T01:46:13.177722Z",
     "start_time": "2021-12-12T01:46:13.162874Z"
    }
   },
   "outputs": [],
   "source": [
    "stockCodes = p1['StockCode'].tolist()\n",
    "sqlCodesList = '(' + ','.join(list(map(lambda x: '\\'' + x + '\\'', stockCodes))) + ')'\n",
    "# sqlCodesList"
   ]
  },
  {
   "cell_type": "code",
   "execution_count": 4,
   "id": "2292247f",
   "metadata": {
    "ExecuteTime": {
     "end_time": "2021-12-12T01:46:13.352764Z",
     "start_time": "2021-12-12T01:46:13.179725Z"
    }
   },
   "outputs": [],
   "source": [
    "# config FileSync database\n",
    "import os\n",
    "import configparser\n",
    "import pandas as pd\n",
    "import sqlalchemy as sa\n",
    "\n",
    "from sqlalchemy.ext.declarative import declarative_base"
   ]
  },
  {
   "cell_type": "code",
   "execution_count": 5,
   "id": "18141e0f",
   "metadata": {
    "ExecuteTime": {
     "end_time": "2021-12-12T01:46:13.506282Z",
     "start_time": "2021-12-12T01:46:13.354764Z"
    }
   },
   "outputs": [],
   "source": [
    "import cx_Oracle   \n",
    "cx_Oracle.init_oracle_client(lib_dir=r\"../FileSync/instantclient_19_11\")\n",
    "# cx_Oracle.init_oracle_client(lib_dir=r\"../FileSync/instantclient_19_8\")\n",
    "\n",
    "conn = cx_Oracle.connect('student2001212376', 'student2001212376', '219.223.208.52/orcl')\n",
    "\n",
    "cursor = conn.cursor()"
   ]
  },
  {
   "cell_type": "code",
   "execution_count": 6,
   "id": "873b03b5",
   "metadata": {
    "ExecuteTime": {
     "end_time": "2021-12-12T01:46:28.268150Z",
     "start_time": "2021-12-12T01:46:13.507283Z"
    }
   },
   "outputs": [],
   "source": [
    "query = f'''\n",
    "SELECT S_DQ_ADJCLOSE, TRADE_DT, S_DQ_CLOSE\n",
    "FROM FILESYNC.AShareEODPrices\n",
    "WHERE (TRADE_DT BETWEEN 20200430 AND 20200630)\n",
    "AND S_INFO_WINDCODE IN {sqlCodesList}\n",
    "'''\n",
    "cursor.execute(query)\n",
    "data = cursor.fetchall()\n",
    "# print(data)"
   ]
  },
  {
   "cell_type": "code",
   "execution_count": 7,
   "id": "53605cbb",
   "metadata": {
    "ExecuteTime": {
     "end_time": "2021-12-12T01:46:28.282801Z",
     "start_time": "2021-12-12T01:46:28.269616Z"
    }
   },
   "outputs": [],
   "source": [
    "prices = pd.DataFrame(data)\n",
    "prices.columns = ['StockCode', 'date', 'price']\n",
    "# prices"
   ]
  },
  {
   "cell_type": "code",
   "execution_count": 8,
   "id": "b1ee3b77",
   "metadata": {
    "ExecuteTime": {
     "end_time": "2021-12-12T01:46:28.313752Z",
     "start_time": "2021-12-12T01:46:28.284801Z"
    },
    "scrolled": true
   },
   "outputs": [],
   "source": [
    "allStocks = prices.pivot_table(index='date', columns='StockCode')['price']\n",
    "# allStocks"
   ]
  },
  {
   "cell_type": "code",
   "execution_count": 9,
   "id": "087de8eb",
   "metadata": {
    "ExecuteTime": {
     "end_time": "2021-12-12T01:46:28.329343Z",
     "start_time": "2021-12-12T01:46:28.315754Z"
    }
   },
   "outputs": [],
   "source": [
    "# prices.to_csv('../data/prices.csv')\n",
    "# allStocks.to_csv('../data/allStocks.csv')"
   ]
  },
  {
   "cell_type": "code",
   "execution_count": 10,
   "id": "58e21a6d",
   "metadata": {
    "ExecuteTime": {
     "end_time": "2021-12-12T01:46:28.344477Z",
     "start_time": "2021-12-12T01:46:28.330345Z"
    }
   },
   "outputs": [],
   "source": [
    "def createPortofolio(name, code):\n",
    "    sectorCol= 'SectorCode' + code\n",
    "    sectorStocks = p1[p1['SectorCode'] == name]\n",
    "\n",
    "    allStocks[sectorCol] = 0\n",
    "    for i, row in enumerate(sectorStocks.iterrows()):\n",
    "        stockCode = row[1]['StockCode']\n",
    "        weightInSector = row[1]['WeightInSectorPortofolio']\n",
    "        allStocks[sectorCol] += allStocks[stockCode] * weightInSector"
   ]
  },
  {
   "cell_type": "code",
   "execution_count": 11,
   "id": "f8a770c4",
   "metadata": {
    "ExecuteTime": {
     "end_time": "2021-12-12T01:46:28.646546Z",
     "start_time": "2021-12-12T01:46:28.345478Z"
    }
   },
   "outputs": [
    {
     "ename": "KeyError",
     "evalue": "'601628.SH'",
     "output_type": "error",
     "traceback": [
      "\u001b[1;31m---------------------------------------------------------------------------\u001b[0m",
      "\u001b[1;31mKeyError\u001b[0m                                  Traceback (most recent call last)",
      "\u001b[1;32mD:\\Software\\anaconda3\\envs\\env_py38\\lib\\site-packages\\pandas\\core\\indexes\\base.py\u001b[0m in \u001b[0;36mget_loc\u001b[1;34m(self, key, method, tolerance)\u001b[0m\n\u001b[0;32m   3360\u001b[0m             \u001b[1;32mtry\u001b[0m\u001b[1;33m:\u001b[0m\u001b[1;33m\u001b[0m\u001b[1;33m\u001b[0m\u001b[0m\n\u001b[1;32m-> 3361\u001b[1;33m                 \u001b[1;32mreturn\u001b[0m \u001b[0mself\u001b[0m\u001b[1;33m.\u001b[0m\u001b[0m_engine\u001b[0m\u001b[1;33m.\u001b[0m\u001b[0mget_loc\u001b[0m\u001b[1;33m(\u001b[0m\u001b[0mcasted_key\u001b[0m\u001b[1;33m)\u001b[0m\u001b[1;33m\u001b[0m\u001b[1;33m\u001b[0m\u001b[0m\n\u001b[0m\u001b[0;32m   3362\u001b[0m             \u001b[1;32mexcept\u001b[0m \u001b[0mKeyError\u001b[0m \u001b[1;32mas\u001b[0m \u001b[0merr\u001b[0m\u001b[1;33m:\u001b[0m\u001b[1;33m\u001b[0m\u001b[1;33m\u001b[0m\u001b[0m\n",
      "\u001b[1;32mD:\\Software\\anaconda3\\envs\\env_py38\\lib\\site-packages\\pandas\\_libs\\index.pyx\u001b[0m in \u001b[0;36mpandas._libs.index.IndexEngine.get_loc\u001b[1;34m()\u001b[0m\n",
      "\u001b[1;32mD:\\Software\\anaconda3\\envs\\env_py38\\lib\\site-packages\\pandas\\_libs\\index.pyx\u001b[0m in \u001b[0;36mpandas._libs.index.IndexEngine.get_loc\u001b[1;34m()\u001b[0m\n",
      "\u001b[1;32mpandas\\_libs\\hashtable_class_helper.pxi\u001b[0m in \u001b[0;36mpandas._libs.hashtable.PyObjectHashTable.get_item\u001b[1;34m()\u001b[0m\n",
      "\u001b[1;32mpandas\\_libs\\hashtable_class_helper.pxi\u001b[0m in \u001b[0;36mpandas._libs.hashtable.PyObjectHashTable.get_item\u001b[1;34m()\u001b[0m\n",
      "\u001b[1;31mKeyError\u001b[0m: '601628.SH'",
      "\nThe above exception was the direct cause of the following exception:\n",
      "\u001b[1;31mKeyError\u001b[0m                                  Traceback (most recent call last)",
      "\u001b[1;32m<ipython-input-11-0b5e0096f59e>\u001b[0m in \u001b[0;36m<module>\u001b[1;34m\u001b[0m\n\u001b[0;32m      6\u001b[0m \u001b[1;33m\u001b[0m\u001b[0m\n\u001b[0;32m      7\u001b[0m \u001b[1;32mfor\u001b[0m \u001b[1;33m[\u001b[0m\u001b[0msec\u001b[0m\u001b[1;33m,\u001b[0m \u001b[0mcode\u001b[0m\u001b[1;33m]\u001b[0m \u001b[1;32min\u001b[0m \u001b[0msectorCodePair\u001b[0m\u001b[1;33m:\u001b[0m\u001b[1;33m\u001b[0m\u001b[1;33m\u001b[0m\u001b[0m\n\u001b[1;32m----> 8\u001b[1;33m     \u001b[0mcreatePortofolio\u001b[0m\u001b[1;33m(\u001b[0m\u001b[0mname\u001b[0m \u001b[1;33m=\u001b[0m \u001b[0msec\u001b[0m\u001b[1;33m,\u001b[0m \u001b[0mcode\u001b[0m \u001b[1;33m=\u001b[0m \u001b[0mcode\u001b[0m\u001b[1;33m)\u001b[0m\u001b[1;33m\u001b[0m\u001b[1;33m\u001b[0m\u001b[0m\n\u001b[0m",
      "\u001b[1;32m<ipython-input-10-131f956e0f9a>\u001b[0m in \u001b[0;36mcreatePortofolio\u001b[1;34m(name, code)\u001b[0m\n\u001b[0;32m      7\u001b[0m         \u001b[0mstockCode\u001b[0m \u001b[1;33m=\u001b[0m \u001b[0mrow\u001b[0m\u001b[1;33m[\u001b[0m\u001b[1;36m1\u001b[0m\u001b[1;33m]\u001b[0m\u001b[1;33m[\u001b[0m\u001b[1;34m'StockCode'\u001b[0m\u001b[1;33m]\u001b[0m\u001b[1;33m\u001b[0m\u001b[1;33m\u001b[0m\u001b[0m\n\u001b[0;32m      8\u001b[0m         \u001b[0mweightInSector\u001b[0m \u001b[1;33m=\u001b[0m \u001b[0mrow\u001b[0m\u001b[1;33m[\u001b[0m\u001b[1;36m1\u001b[0m\u001b[1;33m]\u001b[0m\u001b[1;33m[\u001b[0m\u001b[1;34m'WeightInSectorPortofolio'\u001b[0m\u001b[1;33m]\u001b[0m\u001b[1;33m\u001b[0m\u001b[1;33m\u001b[0m\u001b[0m\n\u001b[1;32m----> 9\u001b[1;33m         \u001b[0mallStocks\u001b[0m\u001b[1;33m[\u001b[0m\u001b[0msectorCol\u001b[0m\u001b[1;33m]\u001b[0m \u001b[1;33m+=\u001b[0m \u001b[0mallStocks\u001b[0m\u001b[1;33m[\u001b[0m\u001b[0mstockCode\u001b[0m\u001b[1;33m]\u001b[0m \u001b[1;33m*\u001b[0m \u001b[0mweightInSector\u001b[0m\u001b[1;33m\u001b[0m\u001b[1;33m\u001b[0m\u001b[0m\n\u001b[0m",
      "\u001b[1;32mD:\\Software\\anaconda3\\envs\\env_py38\\lib\\site-packages\\pandas\\core\\frame.py\u001b[0m in \u001b[0;36m__getitem__\u001b[1;34m(self, key)\u001b[0m\n\u001b[0;32m   3453\u001b[0m             \u001b[1;32mif\u001b[0m \u001b[0mself\u001b[0m\u001b[1;33m.\u001b[0m\u001b[0mcolumns\u001b[0m\u001b[1;33m.\u001b[0m\u001b[0mnlevels\u001b[0m \u001b[1;33m>\u001b[0m \u001b[1;36m1\u001b[0m\u001b[1;33m:\u001b[0m\u001b[1;33m\u001b[0m\u001b[1;33m\u001b[0m\u001b[0m\n\u001b[0;32m   3454\u001b[0m                 \u001b[1;32mreturn\u001b[0m \u001b[0mself\u001b[0m\u001b[1;33m.\u001b[0m\u001b[0m_getitem_multilevel\u001b[0m\u001b[1;33m(\u001b[0m\u001b[0mkey\u001b[0m\u001b[1;33m)\u001b[0m\u001b[1;33m\u001b[0m\u001b[1;33m\u001b[0m\u001b[0m\n\u001b[1;32m-> 3455\u001b[1;33m             \u001b[0mindexer\u001b[0m \u001b[1;33m=\u001b[0m \u001b[0mself\u001b[0m\u001b[1;33m.\u001b[0m\u001b[0mcolumns\u001b[0m\u001b[1;33m.\u001b[0m\u001b[0mget_loc\u001b[0m\u001b[1;33m(\u001b[0m\u001b[0mkey\u001b[0m\u001b[1;33m)\u001b[0m\u001b[1;33m\u001b[0m\u001b[1;33m\u001b[0m\u001b[0m\n\u001b[0m\u001b[0;32m   3456\u001b[0m             \u001b[1;32mif\u001b[0m \u001b[0mis_integer\u001b[0m\u001b[1;33m(\u001b[0m\u001b[0mindexer\u001b[0m\u001b[1;33m)\u001b[0m\u001b[1;33m:\u001b[0m\u001b[1;33m\u001b[0m\u001b[1;33m\u001b[0m\u001b[0m\n\u001b[0;32m   3457\u001b[0m                 \u001b[0mindexer\u001b[0m \u001b[1;33m=\u001b[0m \u001b[1;33m[\u001b[0m\u001b[0mindexer\u001b[0m\u001b[1;33m]\u001b[0m\u001b[1;33m\u001b[0m\u001b[1;33m\u001b[0m\u001b[0m\n",
      "\u001b[1;32mD:\\Software\\anaconda3\\envs\\env_py38\\lib\\site-packages\\pandas\\core\\indexes\\base.py\u001b[0m in \u001b[0;36mget_loc\u001b[1;34m(self, key, method, tolerance)\u001b[0m\n\u001b[0;32m   3361\u001b[0m                 \u001b[1;32mreturn\u001b[0m \u001b[0mself\u001b[0m\u001b[1;33m.\u001b[0m\u001b[0m_engine\u001b[0m\u001b[1;33m.\u001b[0m\u001b[0mget_loc\u001b[0m\u001b[1;33m(\u001b[0m\u001b[0mcasted_key\u001b[0m\u001b[1;33m)\u001b[0m\u001b[1;33m\u001b[0m\u001b[1;33m\u001b[0m\u001b[0m\n\u001b[0;32m   3362\u001b[0m             \u001b[1;32mexcept\u001b[0m \u001b[0mKeyError\u001b[0m \u001b[1;32mas\u001b[0m \u001b[0merr\u001b[0m\u001b[1;33m:\u001b[0m\u001b[1;33m\u001b[0m\u001b[1;33m\u001b[0m\u001b[0m\n\u001b[1;32m-> 3363\u001b[1;33m                 \u001b[1;32mraise\u001b[0m \u001b[0mKeyError\u001b[0m\u001b[1;33m(\u001b[0m\u001b[0mkey\u001b[0m\u001b[1;33m)\u001b[0m \u001b[1;32mfrom\u001b[0m \u001b[0merr\u001b[0m\u001b[1;33m\u001b[0m\u001b[1;33m\u001b[0m\u001b[0m\n\u001b[0m\u001b[0;32m   3364\u001b[0m \u001b[1;33m\u001b[0m\u001b[0m\n\u001b[0;32m   3365\u001b[0m         \u001b[1;32mif\u001b[0m \u001b[0mis_scalar\u001b[0m\u001b[1;33m(\u001b[0m\u001b[0mkey\u001b[0m\u001b[1;33m)\u001b[0m \u001b[1;32mand\u001b[0m \u001b[0misna\u001b[0m\u001b[1;33m(\u001b[0m\u001b[0mkey\u001b[0m\u001b[1;33m)\u001b[0m \u001b[1;32mand\u001b[0m \u001b[1;32mnot\u001b[0m \u001b[0mself\u001b[0m\u001b[1;33m.\u001b[0m\u001b[0mhasnans\u001b[0m\u001b[1;33m:\u001b[0m\u001b[1;33m\u001b[0m\u001b[1;33m\u001b[0m\u001b[0m\n",
      "\u001b[1;31mKeyError\u001b[0m: '601628.SH'"
     ]
    }
   ],
   "source": [
    "sectorCodePair = [['非银金融', '1'],\n",
    "                  ['银行', '2'],\n",
    "                  ['食品饮料', '3'],\n",
    "                  ['医药生物', '4'],\n",
    "                  ['电子', '5']]\n",
    "\n",
    "for [sec, code] in sectorCodePair:\n",
    "    createPortofolio(name = sec, code = code)"
   ]
  },
  {
   "cell_type": "code",
   "execution_count": null,
   "id": "54a09fb3",
   "metadata": {
    "ExecuteTime": {
     "end_time": "2021-12-12T01:46:28.648548Z",
     "start_time": "2021-12-12T01:46:12.808Z"
    },
    "scrolled": true
   },
   "outputs": [],
   "source": [
    "allStocks.index.name = 'TradeDate'\n",
    "portFolioStocks = allStocks[['SectorCode1', \n",
    "                             'SectorCode2', \n",
    "                             'SectorCode3', \n",
    "                             'SectorCode4', \n",
    "                             'SectorCode5']].reset_index().set_index('TradeDate')\n",
    "\n",
    "# portFolioStocks"
   ]
  },
  {
   "cell_type": "code",
   "execution_count": null,
   "id": "c966450a",
   "metadata": {
    "ExecuteTime": {
     "end_time": "2021-12-12T01:46:28.649546Z",
     "start_time": "2021-12-12T01:46:12.809Z"
    },
    "scrolled": true
   },
   "outputs": [],
   "source": [
    "portFolioStocksReturn = portFolioStocks.pct_change(1).fillna(method='bfill')\n",
    "portFolioStocksReturn.index = pd.to_datetime(portFolioStocksReturn.index)\n",
    "# portFolioStocksReturn"
   ]
  },
  {
   "cell_type": "code",
   "execution_count": null,
   "id": "01427ec7",
   "metadata": {
    "ExecuteTime": {
     "end_time": "2021-12-12T01:46:28.650548Z",
     "start_time": "2021-12-12T01:46:12.809Z"
    }
   },
   "outputs": [],
   "source": [
    "plot = portFolioStocksReturn.plot(ylabel='return', figsize=(18, 10))\n",
    "plot"
   ]
  },
  {
   "cell_type": "code",
   "execution_count": null,
   "id": "1809c0de",
   "metadata": {
    "ExecuteTime": {
     "end_time": "2021-12-12T01:46:28.651548Z",
     "start_time": "2021-12-12T01:46:12.810Z"
    }
   },
   "outputs": [],
   "source": [
    "fig = plot.get_figure()\n",
    "fig.savefig(\"../img/problem2.png\")"
   ]
  },
  {
   "cell_type": "code",
   "execution_count": null,
   "id": "777f9a98",
   "metadata": {
    "ExecuteTime": {
     "end_time": "2021-12-12T01:46:28.653549Z",
     "start_time": "2021-12-12T01:46:12.811Z"
    }
   },
   "outputs": [],
   "source": [
    "portFolioStocksReturn.to_csv('../data/problem2.csv')"
   ]
  },
  {
   "cell_type": "code",
   "execution_count": null,
   "id": "4dde15f1",
   "metadata": {},
   "outputs": [],
   "source": []
  },
  {
   "cell_type": "code",
   "execution_count": null,
   "id": "2410295b",
   "metadata": {},
   "outputs": [],
   "source": []
  }
 ],
 "metadata": {
  "kernelspec": {
   "display_name": "Python 3",
   "language": "python",
   "name": "python3"
  },
  "language_info": {
   "codemirror_mode": {
    "name": "ipython",
    "version": 3
   },
   "file_extension": ".py",
   "mimetype": "text/x-python",
   "name": "python",
   "nbconvert_exporter": "python",
   "pygments_lexer": "ipython3",
   "version": "3.8.11"
  },
  "toc": {
   "base_numbering": 1,
   "nav_menu": {},
   "number_sections": true,
   "sideBar": true,
   "skip_h1_title": false,
   "title_cell": "Table of Contents",
   "title_sidebar": "Contents",
   "toc_cell": false,
   "toc_position": {},
   "toc_section_display": true,
   "toc_window_display": false
  },
  "varInspector": {
   "cols": {
    "lenName": 16,
    "lenType": 16,
    "lenVar": 40
   },
   "kernels_config": {
    "python": {
     "delete_cmd_postfix": "",
     "delete_cmd_prefix": "del ",
     "library": "var_list.py",
     "varRefreshCmd": "print(var_dic_list())"
    },
    "r": {
     "delete_cmd_postfix": ") ",
     "delete_cmd_prefix": "rm(",
     "library": "var_list.r",
     "varRefreshCmd": "cat(var_dic_list()) "
    }
   },
   "types_to_exclude": [
    "module",
    "function",
    "builtin_function_or_method",
    "instance",
    "_Feature"
   ],
   "window_display": false
  }
 },
 "nbformat": 4,
 "nbformat_minor": 5
}
