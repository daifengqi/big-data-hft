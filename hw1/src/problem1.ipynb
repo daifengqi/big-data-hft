{
 "cells": [
  {
   "cell_type": "code",
   "execution_count": 1,
   "metadata": {},
   "outputs": [],
   "source": [
    "# -*- coding: utf-8 -*-\n",
    "import pandas as pd\n",
    "import numpy as np"
   ]
  },
  {
   "cell_type": "code",
   "execution_count": 2,
   "metadata": {},
   "outputs": [
    {
     "name": "stderr",
     "output_type": "stream",
     "text": [
      "/Users/cescqi/PycharmProjects/venvCollection/phbs/lib/python3.7/site-packages/ipykernel_launcher.py:28: SettingWithCopyWarning: \n",
      "A value is trying to be set on a copy of a slice from a DataFrame.\n",
      "Try using .loc[row_indexer,col_indexer] = value instead\n",
      "\n",
      "See the caveats in the documentation: https://pandas.pydata.org/pandas-docs/stable/user_guide/indexing.html#returning-a-view-versus-a-copy\n"
     ]
    }
   ],
   "source": [
    "# get data\n",
    "csi300 = pd.read_csv(\"../data/AINDEXHS300CLOSEWEIGHT.csv\")\n",
    "industrial_info = pd.read_csv(\"../data/SWIndustry.csv\")\n",
    "industrial_name = pd.read_excel('../data/申万行业分类.xlsx')\n",
    "\n",
    "today_Date = 20211203\n",
    "# change the column name\n",
    "csi300 = csi300[['S_INFO_WINDCODE','S_CON_WINDCODE','TRADE_DT','I_WEIGHT']]\n",
    "industrial_info = industrial_info[['S_INFO_WINDCODE','SW_IND_CODE','ENTRY_DT','REMOVE_DT']]\n",
    "industrial_info.columns = ['S_CON_WINDCODE','SW_IND_CODE','ENTRY_DT','REMOVE_DT']\n",
    "csi300 = pd.merge(csi300,industrial_info,on='S_CON_WINDCODE',how='left')\n",
    "\n",
    "# merge the dataframe \n",
    "csi300 = csi300.fillna(today_Date)\n",
    "csi300['SW_INDEX'] = np.nan\n",
    "csi_industrial = csi300[(csi300['TRADE_DT']>=csi300['ENTRY_DT'])&(csi300['TRADE_DT']<=csi300['REMOVE_DT'])]\n",
    "csi300.loc[list(csi_industrial.index),'SW_INDEX'] = csi_industrial['SW_IND_CODE'].apply(lambda x:int(str(x)[:4]))\n",
    "csi300 = csi300.dropna()\n",
    "\n",
    "# rank the sw sector weight\n",
    "industrial_sector1 = industrial_name[['一级行业代码','SW一级行业']].dropna()\n",
    "industrial_sector1.columns = ['SW_INDEX','SectorCode']\n",
    "\n",
    "industrial_weight = csi300.groupby('SW_INDEX').sum()\n",
    "industrial_weight = industrial_weight.sort_values(by='I_WEIGHT',ascending= False)\n",
    "\n",
    "industrial_lar5 = industrial_weight.iloc[:5]\n",
    "industrial_lar5['SectorWeightRank'] = [1,2,3,4,5]\n",
    "\n",
    "# choose the largest five weight sector and standardlize\n",
    "csi300_lar5 = pd.merge(csi300,industrial_lar5,how='left',on='SW_INDEX')\n",
    "csi300_lar5 = csi300_lar5.dropna()\n",
    "csi300_lar5 = csi300_lar5[['S_CON_WINDCODE','SW_INDEX','SectorWeightRank','I_WEIGHT_x','I_WEIGHT_y']]\n",
    "csi300_lar5 = pd.merge(csi300_lar5,industrial_sector1,on='SW_INDEX',how='left')\n",
    "csi300_lar5 = csi300_lar5[['S_CON_WINDCODE','SectorCode','SectorWeightRank','I_WEIGHT_x','I_WEIGHT_y']]\n",
    "csi300_lar5.columns = ['StockCode','SectorCode','SectorWeightRank','WeightInIndex','WeightInSectorPortofolio']\n",
    "csi300_lar5['WeightInSectorPortofolio'] = csi300_lar5['WeightInIndex']/csi300_lar5['WeightInSectorPortofolio']\n",
    "csi300_lar5.to_csv('../data/problem1.csv',encoding='utf_8_sig')"
   ]
  }
 ],
 "metadata": {
  "kernelspec": {
   "display_name": "Python 3",
   "language": "python",
   "name": "python3"
  },
  "language_info": {
   "codemirror_mode": {
    "name": "ipython",
    "version": 3
   },
   "file_extension": ".py",
   "mimetype": "text/x-python",
   "name": "python",
   "nbconvert_exporter": "python",
   "pygments_lexer": "ipython3",
   "version": "3.7.3"
  }
 },
 "nbformat": 4,
 "nbformat_minor": 2
}
